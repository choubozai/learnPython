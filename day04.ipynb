{
 "cells": [
  {
   "cell_type": "markdown",
   "metadata": {},
   "source": [
    "【Day 4】\n",
    "判断语句（要求掌握多条件判断）\n",
    "循环语句\n",
    "三目表达式\n",
    "容器\n",
    "可迭代对象\n",
    "迭代器\n",
    "生成器\n",
    "--------------------------------------\n",
    "【作业构想】\n",
    "学习代码200-300行\n",
    "请对方输入一个0-9之间的数字，进行检查，若不是数字提示：您输入的不是数字，请输入0-9间的数字，若数字不在0-9范围内，提示用户输入0-9之间的数字，直至用户输入正确。\n",
    "系统随机生成一个长度为3的数字列表，且列表中元素在0-9之间并且不相等。将用户输入与该列表进行比较，若为列表第一个元素，则荣获第一名，列表第二个元素，则荣获第二名，列表第三个名字，则荣获第三名，否则提示用户未得奖，输入1重新开始游戏，输入2则结束游戏。\n",
    "注意：每次游戏中列表中数字要求随机生成，每轮游戏都不相等。\n",
    "-------------------------------------\n",
    "【作业提交时间】\n",
    "2019年1月29日24：00\n",
    "注意：未完成者将会被清退\n",
    "------------------------------------\n",
    "【点评】\n",
    "完成时间：2019年1月30日12：00\n",
    "注意：未完成竟会被清退"
   ]
  },
  {
   "cell_type": "markdown",
   "metadata": {},
   "source": [
    "判断语句：\n",
    "if-else \n",
    "判断语句基于某种条件触发，当条件满足的时候，执行特定的操作。"
   ]
  },
  {
   "cell_type": "code",
   "execution_count": 1,
   "metadata": {},
   "outputs": [
    {
     "name": "stdout",
     "output_type": "stream",
     "text": [
      "这是一个大于0的数\n",
      "10 <= a < 100\n"
     ]
    }
   ],
   "source": [
    "x = 0.5\n",
    "if x > 0:\n",
    "    print(\"这是一个大于0的数\")\n",
    "    \n",
    "a = 88 \n",
    "if a < 0:\n",
    "    print(\"a < 0\") \n",
    "elif a < 10:\n",
    "    print(\"0<= a < 10\")\n",
    "elif a < 100:\n",
    "    print(\"10 <= a < 100\")\n",
    "else:\n",
    "    print(\"a > 100\")"
   ]
  },
  {
   "cell_type": "markdown",
   "metadata": {},
   "source": [
    "循环语句：将一段代码重复多次，主要有while循环和for循环"
   ]
  },
  {
   "cell_type": "code",
   "execution_count": 3,
   "metadata": {},
   "outputs": [
    {
     "name": "stdout",
     "output_type": "stream",
     "text": [
      "1\n",
      "2\n",
      "3\n",
      "4\n",
      "__________\n",
      "1\n",
      "2\n",
      "3\n",
      "4\n",
      "__________\n",
      "5\n",
      "4\n",
      "3\n",
      "2\n",
      "1\n",
      "__________\n",
      "1 one\n",
      "2 two\n",
      "3 three\n"
     ]
    }
   ],
   "source": [
    "#循环遍历列表\n",
    "num = [1,2,3,4]\n",
    "while num:\n",
    "    values = num.pop(0)\n",
    "    print(values)\n",
    "print('__________') \n",
    "#for循环\n",
    "num = [1,2,3,4]\n",
    "for c in num:\n",
    "    print(c)\n",
    "print('__________') \n",
    "a = (5,4,3,2,1)\n",
    "for i in a:\n",
    "    print(i)\n",
    "print('__________')    \n",
    "b = {1:'one',2:'two',3:'three'}\n",
    "for k in b:\n",
    "    print(k,b[k])"
   ]
  },
  {
   "cell_type": "markdown",
   "metadata": {},
   "source": [
    "三目运算符：跟其他语言不一样\n",
    "其他语言：判段的条件?条件为真时的结果:条件为假时的结果\n",
    "python：条件为真时的结果 if 判段的条件 else 条件为假时的结果 "
   ]
  },
  {
   "cell_type": "code",
   "execution_count": 8,
   "metadata": {},
   "outputs": [
    {
     "name": "stdout",
     "output_type": "stream",
     "text": [
      "2.5\n"
     ]
    }
   ],
   "source": [
    "a = 0.5\n",
    "b = 2\n",
    "h = \"\"\n",
    "\n",
    "h = a-b if a>b else a+b\n",
    "\n",
    "print(h)"
   ]
  },
  {
   "cell_type": "markdown",
   "metadata": {},
   "source": [
    "容器：用来存放基本对象或者其他容易对象的一种类型。分为内置容器和自定义容器，内置容器主要是列表，元组，字典，集合，自定义容器为numpy数组。\n",
    "列表、元组、字典、集合的相关概念和相关方法这里不在赘述，主要粗略的讲一下numpy的自定义数组的生成，后续遇到numpy模块会详细讲解。"
   ]
  },
  {
   "cell_type": "code",
   "execution_count": 10,
   "metadata": {},
   "outputs": [
    {
     "name": "stdout",
     "output_type": "stream",
     "text": [
      "[1 2 3 4]\n",
      "-----------\n",
      "[1 2 3 4]\n",
      "-----------\n",
      "[[1 2 3]\n",
      " [4 5 6]]\n",
      "-----------\n"
     ]
    }
   ],
   "source": [
    "import numpy as np\n",
    "\n",
    "#用列表构造\n",
    "a = np.array([1,2,3,4])\n",
    "print(a)\n",
    "print('-----------')\n",
    "\n",
    "#用元组构造\n",
    "b = np.array((1,2,3,4))\n",
    "print(b)\n",
    "print('-----------')\n",
    "\n",
    "\n",
    "#构建一个2*3的二维数组\n",
    "c = np.array([[1,2,3],\n",
    "             [4,5,6]])\n",
    "print(c)\n",
    "print('-----------')"
   ]
  },
  {
   "cell_type": "markdown",
   "metadata": {},
   "source": [
    "可迭代对象：\n",
    "列表、元组、字典、集合\n",
    "\n",
    "迭代器的主要作用就是支持for循环遍历的操作，使得可迭代对象可以穷尽。\n",
    "\n",
    "以下是可迭代对象对应的迭代器"
   ]
  },
  {
   "cell_type": "code",
   "execution_count": null,
   "metadata": {},
   "outputs": [],
   "source": [
    "#列表\n",
    "print([1,2,3]._iter_())\n",
    "print('--------')\n",
    "#元组\n",
    "print((1,2,3)._iter_())\n",
    "print('--------')\n",
    "#字典\n",
    "print({1:1,2:2,3:3}._iter_())\n",
    "print('--------')\n",
    "#集合\n",
    "print({1,2,3}._iter_())\n",
    "print('--------')"
   ]
  },
  {
   "cell_type": "markdown",
   "metadata": {},
   "source": [
    "生成器：\n",
    "生成器是一个特殊的迭代器，使用函数来定义，使用yield关键字返回值。"
   ]
  },
  {
   "cell_type": "code",
   "execution_count": 17,
   "metadata": {},
   "outputs": [
    {
     "ename": "AttributeError",
     "evalue": "'generator' object has no attribute 'next'",
     "output_type": "error",
     "traceback": [
      "\u001b[1;31m---------------------------------------------------------------------------\u001b[0m",
      "\u001b[1;31mAttributeError\u001b[0m                            Traceback (most recent call last)",
      "\u001b[1;32m<ipython-input-17-d8fb3edfe5ed>\u001b[0m in \u001b[0;36m<module>\u001b[1;34m\u001b[0m\n\u001b[0;32m      5\u001b[0m \u001b[1;33m\u001b[0m\u001b[0m\n\u001b[0;32m      6\u001b[0m \u001b[1;31m#python旧版\u001b[0m\u001b[1;33m\u001b[0m\u001b[1;33m\u001b[0m\u001b[1;33m\u001b[0m\u001b[0m\n\u001b[1;32m----> 7\u001b[1;33m \u001b[0mprint\u001b[0m\u001b[1;33m(\u001b[0m\u001b[0mg\u001b[0m\u001b[1;33m.\u001b[0m\u001b[0mnext\u001b[0m\u001b[1;33m(\u001b[0m\u001b[1;33m)\u001b[0m\u001b[1;33m)\u001b[0m\u001b[1;33m\u001b[0m\u001b[1;33m\u001b[0m\u001b[0m\n\u001b[0m\u001b[0;32m      8\u001b[0m \u001b[0mprint\u001b[0m\u001b[1;33m(\u001b[0m\u001b[0mg\u001b[0m\u001b[1;33m.\u001b[0m\u001b[0m_next_\u001b[0m\u001b[1;33m(\u001b[0m\u001b[1;33m)\u001b[0m\u001b[1;33m)\u001b[0m\u001b[1;33m\u001b[0m\u001b[1;33m\u001b[0m\u001b[0m\n\u001b[0;32m      9\u001b[0m \u001b[1;33m\u001b[0m\u001b[0m\n",
      "\u001b[1;31mAttributeError\u001b[0m: 'generator' object has no attribute 'next'"
     ]
    }
   ],
   "source": [
    "def test_generator():\n",
    "    yield 1\n",
    "    yield 2\n",
    "g = test_generator()\n",
    "\n",
    "#python旧版\n",
    "print(g.next())\n",
    "print(g._next_())\n",
    "\n",
    "#python旧版本使用的next（）方法在新版本中已经更名，所有会抛出错误。参考链接：https://blog.csdn.net/gaifuxi9518/article/details/81059938"
   ]
  },
  {
   "cell_type": "code",
   "execution_count": 18,
   "metadata": {},
   "outputs": [
    {
     "name": "stdout",
     "output_type": "stream",
     "text": [
      "1\n",
      "2\n"
     ]
    }
   ],
   "source": [
    "def test_generator():\n",
    "    yield 1\n",
    "    yield 2\n",
    "g = test_generator()\n",
    "\n",
    "#python3.7版本\n",
    "print(next(g))\n",
    "print(next(g))"
   ]
  },
  {
   "cell_type": "markdown",
   "metadata": {},
   "source": [
    "作业："
   ]
  },
  {
   "cell_type": "code",
   "execution_count": null,
   "metadata": {},
   "outputs": [],
   "source": [
    "import random\n",
    "#num = int(input('请输入一个0-9之间的数字：'))\n",
    "\n",
    "while True:\n",
    "    num = int(input('请输入一个0-9之间的数字：'))\n",
    "    if 0 <= num <=9:\n",
    "        prizeNum = random.sample(range(10),3)\n",
    "        if num == prizeNum[0]:\n",
    "            print(\"恭喜你，获得一等奖！\")\n",
    "        elif num == prizeNum[1]:\n",
    "            print(\"恭喜你，获得二等奖！\")\n",
    "        elif num == prizeNum[2]:\n",
    "            print(\"恭喜你，获得三等奖！\")\n",
    "        else:\n",
    "            print(\"很遗憾，你未中奖\")\n",
    "    else:\n",
    "        print('请输入一个0-9之间的数字')\n",
    "    print('再试一次？ 1-继续，2-结束')\n",
    "    flag = int(input('请输入1或者2：'))\n",
    "    if flag == 1:\n",
    "        continue\n",
    "    else:\n",
    "        break\n"
   ]
  },
  {
   "cell_type": "code",
   "execution_count": null,
   "metadata": {},
   "outputs": [],
   "source": []
  }
 ],
 "metadata": {
  "kernelspec": {
   "display_name": "Python 3",
   "language": "python",
   "name": "python3"
  },
  "language_info": {
   "codemirror_mode": {
    "name": "ipython",
    "version": 3
   },
   "file_extension": ".py",
   "mimetype": "text/x-python",
   "name": "python",
   "nbconvert_exporter": "python",
   "pygments_lexer": "ipython3",
   "version": "3.7.1"
  }
 },
 "nbformat": 4,
 "nbformat_minor": 2
}
