{
 "cells": [
  {
   "cell_type": "markdown",
   "metadata": {},
   "source": [
    "【Day 3】\n",
    "【dict字典】\n",
    "定义\n",
    "创建\n",
    "字典的相关方法\n",
    "-----------------------------------\n",
    "【set集合】\n",
    "特性\n",
    "创建\n",
    "方法\n",
    "-------------------------------------\n",
    "【file文件读取】\n",
    " 打开文件方式（读写两种方式）\n",
    "文件对象的操作方法\n",
    "*学习对excel及csv文件进行操作*\n",
    "**内容为选做内容，可根据自己基础决定是否做此内容\n",
    "--------------------------------------\n",
    "【作业构想】\n",
    "学习代码200-300行\n",
    "读取一个文件【文件将在之后给出】，将文件中转换为字典，key值为学习项目，value值为一个负责人列表，并判断字典中是否有负责人负责多个学习项目。\n",
    "-------------------------------------\n",
    "【作业提交时间】\n",
    "2019年1月28日24：00\n",
    "注意：未完成者将会被清退\n",
    "------------------------------------\n",
    "【点评】\n",
    "完成时间：2019年1月29日12：00\n",
    "注意：未完成竟会被清退"
   ]
  },
  {
   "cell_type": "markdown",
   "metadata": {},
   "source": [
    "字典定义：是Python中一种由“键-值”组成的常用数据结构。相当于其他语言的对象。"
   ]
  },
  {
   "cell_type": "markdown",
   "metadata": {},
   "source": [
    "字典的创建：使用一对花括号或者使用dict（）函数来创建字典。"
   ]
  },
  {
   "cell_type": "code",
   "execution_count": null,
   "metadata": {},
   "outputs": [],
   "source": [
    "a = {}\n",
    "type(a)\n",
    "dict = {'Alice': '2341', 'Beth': '9102', 'Cecil': '3258'}\n",
    "a['one'] = 1\n",
    "a['two'] = 2\n",
    "print(a)\n",
    "print(a['one'])"
   ]
  },
  {
   "cell_type": "markdown",
   "metadata": {},
   "source": [
    "字典的相关方法：\n",
    ".get()       查找指定键的值\n",
    ".pop()       删除并返回指定索引位置的元素\n",
    ".updata()    更新多个键值对\n",
    ".keys()      返回一个由所有键组成的列表\n",
    ".values()    返回一个由所有值组成的列表\n",
    ".items()     返回一个由所有键值对元组组成的列表\n",
    ".clear()     清空字典\n",
    ".copy()      字典的浅拷贝\n",
    ".has_keys()  是否存在某个键值\n",
    ".popitem()   删除并返回指定索引位置的键值对\n"
   ]
  },
  {
   "cell_type": "code",
   "execution_count": 6,
   "metadata": {},
   "outputs": [
    {
     "name": "stdout",
     "output_type": "stream",
     "text": [
      "2341\n",
      "9102\n",
      "None\n",
      "dict_keys(['Alice', 'Cecil', '1', '2'])\n",
      "dict_values(['2341', '3258', 'one', 'two'])\n",
      "dict_items([('1', 'one'), ('2', 'two')])\n",
      "None\n",
      "{'Alice': '2341', 'Cecil': '3258', '1': 'one', '2': 'two'}\n",
      "('2', 'two')\n"
     ]
    }
   ],
   "source": [
    "dict = {'Alice': '2341', 'Beth': '9102', 'Cecil': '3258'}\n",
    "a = {'1': 'one','2': 'two'}\n",
    "print(dict.get('Alice'))\n",
    "\n",
    "print(dict.pop('Beth'))\n",
    "\n",
    "print(dict.update(a))\n",
    "\n",
    "print(dict.keys())\n",
    "\n",
    "print(dict.values())\n",
    "\n",
    "print(a.items())\n",
    "\n",
    "print(a.clear())\n",
    "\n",
    "dict1 = dict.copy()\n",
    "print(dict1)\n",
    "\n",
    "print(dict.popitem())"
   ]
  },
  {
   "cell_type": "markdown",
   "metadata": {},
   "source": [
    "set集合的特性：\n",
    "集合中的元素具有唯一性，即集合中不存在两个同样的元素。因此为了保持集合中不包含同样的元素，则集合中放入的元素只能是不可变类型的。"
   ]
  },
  {
   "cell_type": "markdown",
   "metadata": {},
   "source": [
    "set集合的创建：\n",
    "1.使用set（）函数来创建\n",
    "2.使用一对大括号来创建\n",
    "3.特例，空集合可以使用set（）函数来创建，创建出来的空集合是一个空的字典。"
   ]
  },
  {
   "cell_type": "code",
   "execution_count": 11,
   "metadata": {},
   "outputs": [
    {
     "name": "stdout",
     "output_type": "stream",
     "text": [
      "<class 'set'>\n",
      "{1, 2, 3, 4}\n",
      "<class 'dict'>\n",
      "{1, 2, 3, 4}\n"
     ]
    }
   ],
   "source": [
    "s = type(set())\n",
    "print(s)\n",
    "\n",
    "a = set([1,2,3,4])\n",
    "print(a)\n",
    "\n",
    "d = type({})\n",
    "print(d)\n",
    "\n",
    "b = {1,2,3,4,3,1}\n",
    "print(b)"
   ]
  },
  {
   "cell_type": "markdown",
   "metadata": {},
   "source": [
    "集合的方法：\n",
    ".add()           添加单个元素\n",
    ".update()        向集合添加多个元素 \n",
    ".remove()        移除元素\n",
    ".pop()           随机删除集合中的一个元素\n",
    ".discard()       删除元素，删除不存在的元素也不会抛出异常\n"
   ]
  },
  {
   "cell_type": "code",
   "execution_count": 12,
   "metadata": {},
   "outputs": [
    {
     "name": "stdout",
     "output_type": "stream",
     "text": [
      "{1, 2, 3, 5}\n",
      "{1, 2, 3, 5, 6, 7}\n",
      "{2, 3, 5, 6, 7}\n",
      "{3, 5, 6, 7}\n",
      "{3, 5, 6, 7}\n"
     ]
    }
   ],
   "source": [
    "t = {1,2,3}\n",
    "t.add(5)\n",
    "print(t)\n",
    "\n",
    "t.update([7,6])\n",
    "print(t)\n",
    "\n",
    "t.remove(1)\n",
    "print(t)\n",
    "\n",
    "t.pop()\n",
    "print(t)\n",
    "\n",
    "t.discard(8)\n",
    "print(t)"
   ]
  },
  {
   "cell_type": "markdown",
   "metadata": {},
   "source": [
    "文件读取：\n",
    "读取：使用open()，file()，read(),readlines()\n",
    "写入：使用open()方法，指定只写模式进行写入。"
   ]
  },
  {
   "cell_type": "code",
   "execution_count": 27,
   "metadata": {},
   "outputs": [
    {
     "name": "stdout",
     "output_type": "stream",
     "text": [
      "python学习 咖喱 胡骞\n",
      "\n",
      "leetcode刷题 老表 陈焕森\n",
      "\n",
      "编程集训 孙超 小熊\n",
      "\n",
      "统计学 李奇峰 蓝昔\n",
      "\n",
      "ML项目实践 杨冰楠 孙涛\n",
      "\n",
      "高级算法梳理 于鸿飞 小雪\n",
      "\n",
      "基础算法梳理 sm1les 钱令武\n",
      "\n",
      "知乎小组 李严 黑桃\n",
      "\n",
      "学习群 咖喱 排骨\n",
      "\n"
     ]
    },
    {
     "data": {
      "text/plain": [
       "''"
      ]
     },
     "execution_count": 27,
     "metadata": {},
     "output_type": "execute_result"
    }
   ],
   "source": [
    "f = open('./Desktop/homework(1).txt',encoding='UTF-8')\n",
    "\n",
    "for line in f:\n",
    "    print(line)\n",
    "    \n",
    "f.read()"
   ]
  },
  {
   "cell_type": "code",
   "execution_count": 28,
   "metadata": {},
   "outputs": [
    {
     "data": {
      "text/plain": [
       "'python学习 咖喱 胡骞\\n'"
      ]
     },
     "execution_count": 28,
     "metadata": {},
     "output_type": "execute_result"
    }
   ],
   "source": [
    "f = open('./Desktop/homework(1).txt',encoding='UTF-8')\n",
    "f.readline()"
   ]
  },
  {
   "cell_type": "code",
   "execution_count": 31,
   "metadata": {},
   "outputs": [
    {
     "data": {
      "text/plain": [
       "'python学习 咖喱 胡骞\\nleetcode刷题 老表 陈焕森\\n编程集训 孙超 小熊\\n统计学 李奇峰 蓝昔\\nML项目实践 杨冰楠 孙涛\\n高级算法梳理 于鸿飞 小雪\\n基础算法梳理 sm1les 钱令武\\n知乎小组 李严 黑桃\\n学习群 咖喱 排骨\\n'"
      ]
     },
     "execution_count": 31,
     "metadata": {},
     "output_type": "execute_result"
    }
   ],
   "source": [
    "f = open('./Desktop/homework(1).txt',encoding='UTF-8')\n",
    "f.read()\n"
   ]
  },
  {
   "cell_type": "code",
   "execution_count": 33,
   "metadata": {},
   "outputs": [],
   "source": [
    "f = open('./Desktop/homework(1).txt',encoding='UTF-8')\n",
    "f.close()"
   ]
  },
  {
   "cell_type": "markdown",
   "metadata": {},
   "source": [
    "文件写入："
   ]
  },
  {
   "cell_type": "code",
   "execution_count": 36,
   "metadata": {},
   "outputs": [
    {
     "data": {
      "text/plain": [
       "'hello world'"
      ]
     },
     "execution_count": 36,
     "metadata": {},
     "output_type": "execute_result"
    }
   ],
   "source": [
    "f = open('./Desktop/homework(1).txt',encoding='UTF-8' ,mode ='w')\n",
    "f.write('hello world')\n",
    "f.close()\n",
    "open('./Desktop/homework(1).txt',encoding='UTF-8').read()"
   ]
  },
  {
   "cell_type": "markdown",
   "metadata": {},
   "source": [
    "对excel文件的操作：\n",
    "需用到xlrd库"
   ]
  },
  {
   "cell_type": "code",
   "execution_count": 66,
   "metadata": {},
   "outputs": [
    {
     "name": "stdout",
     "output_type": "stream",
     "text": [
      "['a', 'b', 'c']\n"
     ]
    }
   ],
   "source": [
    "import xlrd\n",
    "data = xlrd.open_workbook('C:\\\\Users\\\\Administrator\\\\Desktop\\\\1.xlsx')\n",
    "table = data.sheets()[0]\n",
    "print(table.row_values(0))"
   ]
  },
  {
   "cell_type": "markdown",
   "metadata": {},
   "source": [
    "对csv文件的操作：\n",
    "需用到csv模块"
   ]
  },
  {
   "cell_type": "code",
   "execution_count": 67,
   "metadata": {},
   "outputs": [
    {
     "name": "stdout",
     "output_type": "stream",
     "text": [
      "<_csv.reader object at 0x000000859B6D2320>\n",
      "['1', '2', '3']\n",
      "['q', 'w', 'e']\n"
     ]
    }
   ],
   "source": [
    "import csv\n",
    "csv_file = csv.reader(open('C:\\\\Users\\\\Administrator\\\\Desktop\\\\csv_demo.csv','r'))\n",
    "print(csv_file)\n",
    "\n",
    "for line in csv_file:\n",
    "    print(line)\n",
    "    "
   ]
  },
  {
   "cell_type": "markdown",
   "metadata": {},
   "source": [
    "对csv文件进行写入："
   ]
  },
  {
   "cell_type": "code",
   "execution_count": 69,
   "metadata": {},
   "outputs": [
    {
     "name": "stdout",
     "output_type": "stream",
     "text": [
      "write over\n"
     ]
    }
   ],
   "source": [
    "import csv\n",
    "#要写入的值\n",
    "a = ['num',25]\n",
    "file = open('C:\\\\Users\\\\Administrator\\\\Desktop\\\\csv_demo.csv','a', newline='')\n",
    "#设定写入模式\n",
    "csv_write = csv.writer(file,dialect='excel')\n",
    "#写入具体内容\n",
    "csv_write.writerow(a)\n",
    "print (\"write over\")"
   ]
  },
  {
   "cell_type": "markdown",
   "metadata": {},
   "source": [
    "作业："
   ]
  },
  {
   "cell_type": "code",
   "execution_count": 81,
   "metadata": {
    "scrolled": true
   },
   "outputs": [
    {
     "name": "stdout",
     "output_type": "stream",
     "text": [
      "{'python学习': ['咖喱', '胡骞\\n'], 'leetcode刷题': ['老表', '陈焕森\\n'], '编程集训': ['孙超', '小熊\\n'], '统计学': ['李奇峰', '蓝昔\\n'], 'ML项目实践': ['杨冰楠', '孙涛\\n'], '高级算法梳理': ['于鸿飞', '小雪\\n'], '基础算法梳理': ['sm1les', '钱令武\\n'], '知乎小组': ['李严', '黑桃\\n'], '学习群': ['咖喱', '排骨\\n']}\n",
      "有负责人负责多个学习项目\n"
     ]
    }
   ],
   "source": [
    "data = {}\n",
    "person = []\n",
    "f = open('./Desktop/homework(2).txt',encoding='UTF-8')\n",
    "lines = f.readlines()\n",
    "for line in lines:\n",
    "    lineValues = line.split(\" \")\n",
    "    key = lineValues[0]\n",
    "    values = [lineValues[1],lineValues[2]]\n",
    "    data[key] = values\n",
    "    person.extend(values)\n",
    "print(data)\n",
    "\n",
    "if len(set(person)) != len(data)*2:\n",
    "    print(\"有负责人负责多个学习项目\")\n",
    "else:\n",
    "    print(\"没有负责人负责多个学习项目\")"
   ]
  }
 ],
 "metadata": {
  "kernelspec": {
   "display_name": "Python 3",
   "language": "python",
   "name": "python3"
  },
  "language_info": {
   "codemirror_mode": {
    "name": "ipython",
    "version": 3
   },
   "file_extension": ".py",
   "mimetype": "text/x-python",
   "name": "python",
   "nbconvert_exporter": "python",
   "pygments_lexer": "ipython3",
   "version": "3.7.1"
  }
 },
 "nbformat": 4,
 "nbformat_minor": 2
}
