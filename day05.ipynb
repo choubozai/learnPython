{
 "cells": [
  {
   "cell_type": "code",
   "execution_count": null,
   "metadata": {},
   "outputs": [],
   "source": [
    "【Day 5】\n",
    "正则表达式re\n",
    "os模块\n",
    "datetime模块\n",
    "http请求\n",
    "--------------------------------------\n",
    "【作业构想】\n",
    "请用户输入一个时间，输出选项所对应的现在时间，告诉用户这两个时间相隔的天数，小时数，分钟数和秒数。\n",
    "请用户输入电话及邮箱，判断用户输入是否合法。\n",
    "对http://www.baidu.com 进行请求，并用正则化匹配图片内容。将百度图标爬取下来保存至本地\n",
    "-------------------------------------\n",
    "【作业提交时间】\n",
    "2019年1月30日24：00\n",
    "注意：未完成者将会被清退\n",
    "------------------------------------\n",
    "【点评】\n",
    "完成时间：2019年1月31日12：00\n",
    "注意：未完成竟会被清退"
   ]
  },
  {
   "cell_type": "code",
   "execution_count": null,
   "metadata": {},
   "outputs": [],
   "source": []
  },
  {
   "cell_type": "markdown",
   "metadata": {},
   "source": [
    "正则表达式--re模块\n",
    "正则表达式：是一种强大的字符串匹配模式，通常使用单个字符串来描述、匹配一系列匹配某个句法规则的字符串。\n",
    "正则表达式匹配表的相关含义以及用法详见：https://www.cnblogs.com/jason-lv/p/8251904.htm"
   ]
  },
  {
   "cell_type": "markdown",
   "metadata": {},
   "source": [
    "主要方法：\n",
    "re.split()  使用指定的正则表达式作为分隔符，对字符串进行分割。\n",
    "re.findall() 找到字符串中所有匹配正则表达式的部分\n",
    "re.match()   对字符串的开头进行匹配。\n",
    "re.search()   使用正则表达式去匹配字符串中所有的子串，如果找到，返回第一个匹配对应的Match对象，否则返回None\n"
   ]
  },
  {
   "cell_type": "code",
   "execution_count": 4,
   "metadata": {},
   "outputs": [
    {
     "name": "stdout",
     "output_type": "stream",
     "text": [
      "['', 'runoob, runoob, runoob.']\n",
      "-------------\n",
      "['123', '456']\n",
      "-------------\n",
      "(0, 3)\n",
      "None\n",
      "--------------\n",
      "(0, 3)\n",
      "(11, 14)\n"
     ]
    }
   ],
   "source": [
    "import re\n",
    "a = re.split('\\W+', ' runoob, runoob, runoob.', 1)\n",
    "print(a)\n",
    "print('-------------')\n",
    "\n",
    "pattern = re.compile(r'\\d+')   # 查找数字\n",
    "result = pattern.findall('runoob 123 google 456')\n",
    "print(result)\n",
    "print('-------------')\n",
    "\n",
    "print(re.match('www', 'www.runoob.com').span())  # 在起始位置匹配\n",
    "print(re.match('com', 'www.runoob.com'))         # 不在起始位置匹配\n",
    "print('--------------')\n",
    "\n",
    "print(re.search('www', 'www.runoob.com').span())  # 在起始位置匹配\n",
    "print(re.search('com', 'www.runoob.com').span())         # 不在起始位置匹配"
   ]
  },
  {
   "cell_type": "markdown",
   "metadata": {},
   "source": [
    "os模块：与操作系统进行交互的标准库模块。"
   ]
  },
  {
   "cell_type": "code",
   "execution_count": 7,
   "metadata": {},
   "outputs": [
    {
     "name": "stdout",
     "output_type": "stream",
     "text": [
      "C:\\Users\\Administrator\n",
      "['.android', '.conda', '.config', '.ipynb_checkpoints', '.ipython', '.jupyter', '.node_repl_history', '.npmrc', '.oracle_jre_usage', '.vscode', '.vue-templates', 'AppData', 'Application Data', 'Contacts', 'Cookies', 'csv_demo.csv', 'day04.ipynb', 'day05.ipynb', 'Desktop', 'Documents', 'Downloads', 'Favorites', 'IntelGraphicsProfiles', 'Links', 'Local Settings', 'Music', 'My Documents', 'NetHood', 'NTUSER.DAT', 'ntuser.dat.LOG1', 'ntuser.dat.LOG2', 'NTUSER.DAT{546a5075-71f4-11e4-80c4-0026b9569dc0}.TM.blf', 'NTUSER.DAT{546a5075-71f4-11e4-80c4-0026b9569dc0}.TMContainer00000000000000000001.regtrans-ms', 'NTUSER.DAT{546a5075-71f4-11e4-80c4-0026b9569dc0}.TMContainer00000000000000000002.regtrans-ms', 'ntuser.ini', 'Pictures', 'PrintHood', 'Recent', 'Saved Games', 'Searches', 'SendTo', 'Templates', 'Untitled.ipynb', 'Untitled1.ipynb', 'Videos', '「开始」菜单', '新建文件夹']\n"
     ]
    }
   ],
   "source": [
    "import os\n",
    "#获取当前工作目录\n",
    "a = os.getcwd()\n",
    "print(a)\n",
    "#当前工作目录所有文件和子文件的名称\n",
    "b = os.listdir('.')\n",
    "print(b)"
   ]
  },
  {
   "cell_type": "markdown",
   "metadata": {},
   "source": [
    "os模块相关的方法：\n",
    "os.getcwd()          获取当前工作目录\n",
    "os.chdir(path)       该比昂当前工作目录\n",
    "os.listdir(path)     列出指定目录下的文件和文件夹列表\n",
    "os.remove(path)      删除文件\n",
    "os.unlink(path)      删除文件\n",
    "os.removedirs(path)  删除文件\n",
    "os.rename(path)      重命名文件\n",
    "os.mkdir(name)       创建文件夹，路径不存在则抛出异常\n",
    "od.makedir(name)     创建文件夹，文件夹不存在会创建文件"
   ]
  },
  {
   "cell_type": "markdown",
   "metadata": {},
   "source": [
    "datetime模块：\n",
    "处理时间和日期的标准库，提供了一些吹时间和日期的基本操作。"
   ]
  },
  {
   "cell_type": "code",
   "execution_count": 23,
   "metadata": {},
   "outputs": [
    {
     "name": "stdout",
     "output_type": "stream",
     "text": [
      "2019-01-30\n",
      "Wednesday,01/30/19\n",
      "Wed,01-30-19\n",
      "355 days, 0:00:00\n",
      "15:38:00\n",
      "2019-01-30 21:01:51.808078\n",
      "2019-01-30 20:22:30\n"
     ]
    }
   ],
   "source": [
    "import datetime as dt\n",
    "#date对象：\n",
    "#生成日期\n",
    "a = dt.date(2019,1,30)\n",
    "print(a)\n",
    "#以特定格式输出\n",
    "b = a.strftime('%A,%m/%d/%y')\n",
    "print(b)\n",
    "c = a.strftime('%a,%m-%d-%y')\n",
    "print(c)\n",
    "\n",
    "#timedelta对象，主要用于时间的加减\n",
    "d = dt.date(2020,1,20)\n",
    "e = d - a\n",
    "print(e)\n",
    "\n",
    "#time对象 dt.time(hour,min,sec,us)\n",
    "f = dt.time(15,38)\n",
    "print(f)\n",
    "\n",
    "#datetime对象 创建带有时间和日期的datetime对象 datetime(year,month,day,hr,min,sec,us)\n",
    "g = dt.datetime.now()\n",
    "print(g)\n",
    "h = dt.datetime(2019,1,30,20,22,30)\n",
    "print(h)"
   ]
  },
  {
   "cell_type": "markdown",
   "metadata": {},
   "source": [
    "http请求：\n",
    "主要使用http.client，urllib，urllib3，requests等这几个库\n",
    "\n",
    "request库：\n",
    "  Requests库中有7个主要的函数，分别是request(), get(), head(), post(), put(), patch(), delete(). 这七个函数其中request()函数是其余六个函数的基础函数，其余六个函数的实现都是通过调用该函数实现的。相关用法及详细讲解参考：https://blog.csdn.net/qq_36346262/article/details/79343665\n",
    " \n",
    "requests.request()         构造一个请求，支撑一下方法的基础方法\n",
    "requests.get()             获取HTML网页的主要方法，对应于HTTP的GET（请求URL位置的资源）\n",
    "requests.head()            获取HTML网页头信息的方法，对应于HTTP的HEAD（请求URL位置的资源的头部信息）\n",
    "requests.post()            向HTML网页提交POST请求的方法，对应于HTTP的POST（请求向URL位置的资源附加新的数据）\n",
    "requests.put()             向HTML网页提交PUT请求的方法，对应于HTTP的PUT（请求向URL位置储存一个资源，覆盖原来URL位置的资源）\n",
    "requests.patch()           向HTML网页提交局部修改的请求，对应于HTTP的PATCH（请求局部更新URL位置的资源）\n",
    "requests.delete()          向HTML网页提交删除请求，对应于HTTP的DELETE（请求删除URL位置储存的资源）"
   ]
  },
  {
   "cell_type": "markdown",
   "metadata": {},
   "source": [
    "作业：\n"
   ]
  },
  {
   "cell_type": "code",
   "execution_count": 40,
   "metadata": {},
   "outputs": [
    {
     "name": "stdout",
     "output_type": "stream",
     "text": [
      "2019-01-30 22:05:31.985394\n",
      "请输入年：2019\n",
      "请输入月：1\n",
      "请输入日：20\n",
      "请输入小时：10\n",
      "请输入分：20\n",
      "请输入秒：32\n",
      "相隔的天数为：10 days, 11:44:59.985394\n"
     ]
    }
   ],
   "source": [
    "#时间\n",
    "import datetime as dt\n",
    "now = dt.datetime.now()\n",
    "print(now)\n",
    "year=int(input('请输入年：'))\n",
    "month=int(input('请输入月：'))\n",
    "day=int(input('请输入日：'))\n",
    "hr=int(input('请输入小时：'))\n",
    "min=int(input('请输入分：'))\n",
    "sec=int(input('请输入秒：'))\n",
    "d1 = dt.datetime(year, month,day,hr,min,sec)\n",
    "print('相隔的天数为：{}'.format(now-d1))"
   ]
  },
  {
   "cell_type": "code",
   "execution_count": 38,
   "metadata": {},
   "outputs": [
    {
     "name": "stdout",
     "output_type": "stream",
     "text": [
      "请输入一个邮箱号或者手机号：18320339893\n",
      "你输入的是一个手机号码\n"
     ]
    }
   ],
   "source": [
    "import re\n",
    "n = input('请输入一个邮箱号或者手机号：')\n",
    "pattern1 = r\"^1[3-9]\\d{9}$\"\n",
    "pattern2 = r\"\\w{0,19}@[0-9a-zA-Z]{1,13}\\.[com,cn,net]{1,3}\"\n",
    "if re.match(pattern1,n):\n",
    "    print('你输入的是一个手机号码')\n",
    "else:\n",
    "    print('你输入的是一个邮箱号码')"
   ]
  },
  {
   "cell_type": "code",
   "execution_count": 37,
   "metadata": {},
   "outputs": [
    {
     "name": "stdout",
     "output_type": "stream",
     "text": [
      "[<img class=\"index-logo-srcnew\" height=\"129\" hidefocus=\"true\" src=\"//www.baidu.com/img/bd_logo1.png?qua=high\" usemap=\"#mp\" width=\"270\"/>, <img alt=\"到百度首页\" class=\"index-logo-srcnew\" src=\"//www.baidu.com/img/baidu_jgylogo3.gif\" title=\"到百度首页\"/>]\n",
      "//www.baidu.com/img/bd_logo1.png?qua=high\n",
      "//www.baidu.com/img/baidu_jgylogo3.gif\n"
     ]
    }
   ],
   "source": [
    "from bs4 import BeautifulSoup\n",
    "from urllib.request import urlopen\n",
    "html = urlopen(\"http://www.baidu.com\").read().decode('utf-8')\n",
    "#print(html)\n",
    "soup = BeautifulSoup(html,\"html.parser\")\n",
    "imgs=soup.select(\"img[class='index-logo-srcnew']\")#lg > img.index-logo-srcnew\n",
    "print(imgs)\n",
    "for img in imgs:\n",
    "    print(img.get('src'))\n"
   ]
  }
 ],
 "metadata": {
  "kernelspec": {
   "display_name": "Python 3",
   "language": "python",
   "name": "python3"
  },
  "language_info": {
   "codemirror_mode": {
    "name": "ipython",
    "version": 3
   },
   "file_extension": ".py",
   "mimetype": "text/x-python",
   "name": "python",
   "nbconvert_exporter": "python",
   "pygments_lexer": "ipython3",
   "version": "3.7.1"
  }
 },
 "nbformat": 4,
 "nbformat_minor": 2
}
