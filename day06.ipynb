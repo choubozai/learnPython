{
 "cells": [
  {
   "cell_type": "markdown",
   "metadata": {},
   "source": [
    "【Day 6】\n",
    "函数关键字\n",
    "函数的定义\n",
    "函数参数与作用域\n",
    "函数返回值\n",
    "【鉴于第五天内容较难，第6天内容减少，请同学们自行补充第五天知识体系】\n",
    "--------------------------------------\n",
    "【作业构想】\n",
    "实现random.sample方法\n",
    "实现Max方法\n",
    "实现判断两个字符串是否相等的方法\n",
    "-------------------------------------\n",
    "【作业提交时间】\n",
    "2019年1月31日24：00\n",
    "注意：未完成者将会被清退\n",
    "------------------------------------\n",
    "【点评】\n",
    "完成时间：2019年2月1日12：00\n",
    "注意：未完成竟会被清退"
   ]
  },
  {
   "cell_type": "markdown",
   "metadata": {},
   "source": [
    "函数：\n",
    "概念：程序负责完成某项特定任务的代码单元，具有一定的独立性，函数主要是可以帮助我们复用代码，减少代码量。\n",
    "函数定义：\n",
    "   使用关键字def引导；\n",
    "   def后面的是函数的名称，括号中是函数的参数，多个参数使用逗号隔开，可以为空。\n",
    "   函数的代码块要缩进\n",
    "   使用关键字return返回一个特定的值，如果省略，返回None.\n",
    "   "
   ]
  },
  {
   "cell_type": "code",
   "execution_count": null,
   "metadata": {},
   "outputs": [],
   "source": [
    "def add(x,y):\n",
    "    sum = x + y\n",
    "    return sum\n",
    "result = add(10,20)\n",
    "print(result)"
   ]
  },
  {
   "cell_type": "markdown",
   "metadata": {},
   "source": [
    "参数：\n",
    "必要参数（形参）\n",
    "带默认参数的函数\n",
    "接受不定数目参数的函数"
   ]
  },
  {
   "cell_type": "code",
   "execution_count": null,
   "metadata": {},
   "outputs": [],
   "source": [
    "#必要参数 \n",
    "def power(x, n):\n",
    "    s = 1\n",
    "    while n > 0:\n",
    "        n = n - 1\n",
    "        s = s * x\n",
    "    return s\n",
    "\n",
    "print(pow(5,3))  "
   ]
  },
  {
   "cell_type": "code",
   "execution_count": null,
   "metadata": {},
   "outputs": [],
   "source": [
    "#默认参数\n",
    "def power(x, n=2):\n",
    "    s = 1\n",
    "    while n > 0:\n",
    "        n = n - 1\n",
    "        s = s * x\n",
    "    return s\n",
    "\n",
    "print(power(5))\n",
    "print(pow(3,3)) "
   ]
  },
  {
   "cell_type": "code",
   "execution_count": null,
   "metadata": {},
   "outputs": [],
   "source": [
    "#不定参数\n",
    "def loop(*args):\n",
    "    for x in args:\n",
    "        print(x)\n",
    "  \n",
    "loop(1,2,3)"
   ]
  },
  {
   "cell_type": "markdown",
   "metadata": {},
   "source": [
    "作用域：\n",
    "函数作用域（L）\n",
    "闭包作用域（E）\n",
    "全局作用域(G)\n",
    "内建作用域(B)\n",
    "PYTHON中以 L --> E --> G -->B 的规则查找，即：在局部找不到，便会去局部外的局部找（例如闭包），再找不到就会去全局找，再者去内建中找。"
   ]
  },
  {
   "cell_type": "code",
   "execution_count": null,
   "metadata": {},
   "outputs": [],
   "source": [
    "#函数作用域\n",
    "def foo(a,b):\n",
    "    c = 1\n",
    "    return a+b+c\n",
    "print(foo(1,3))\n",
    "print('----------')\n",
    "#闭包作用域\n",
    "def outer():\n",
    "    j = 1\n",
    "    def inner():\n",
    "        return j\n",
    "    return inner\n",
    "f = outer()\n",
    "print(f())\n",
    "print('----------')\n",
    "\n",
    "#全局作用域\n",
    "d = 1\n",
    "def add(a,b):\n",
    "    c = 3\n",
    "    return a+b+d\n",
    "print(add(3,4))\n",
    "print('----------')\n",
    "\n",
    "#内建作用域\n",
    "import builtins\n",
    "print(len is builtins.len)"
   ]
  },
  {
   "cell_type": "code",
   "execution_count": null,
   "metadata": {},
   "outputs": [],
   "source": [
    "#返回值为None\n",
    "def add(x,y):\n",
    "    sum = x +y\n",
    "\n",
    "print(add(1,2))\n",
    "print('-------')\n",
    "\n",
    "#返回一个值\n",
    "def add(a,b):\n",
    "    sum = a +b\n",
    "    return sum\n",
    "print(add(1,2))\n",
    "print('-------')\n",
    "\n",
    "#返回多个值\n",
    "def min_max(x):\n",
    "    return min(x),max(x)\n",
    "t = [1,2,3,4,5]\n",
    "c,d = min_max(t)\n",
    "print(c)\n",
    "print(d)"
   ]
  },
  {
   "cell_type": "code",
   "execution_count": null,
   "metadata": {
    "scrolled": true
   },
   "outputs": [],
   "source": [
    "#作业\n",
    "#1\n",
    "import random\n",
    "def random_sample(list2, length):\n",
    "    temp=[]\n",
    "    for i in range(length*3):\n",
    "        x=int(random.uniform(0,len(list2)))\n",
    "        temp.append(list2[x])\n",
    "    temp2= list(set(temp))\n",
    "    temp2.sort(key=temp.index) \n",
    "    return temp2[:length]\n",
    "\n",
    "print(random_sample(range(10),3))"
   ]
  },
  {
   "cell_type": "code",
   "execution_count": null,
   "metadata": {},
   "outputs": [],
   "source": [
    "#2\n",
    "def maxNumber(x):\n",
    "    return max(x)\n",
    "t = [1,2,3,4,5]\n",
    "c = maxNumber(t)\n",
    "print(c)"
   ]
  },
  {
   "cell_type": "code",
   "execution_count": null,
   "metadata": {},
   "outputs": [],
   "source": [
    "\n",
    "#3\n",
    "def strEqual(a,b):\n",
    "    if str(a) == str(b):\n",
    "        print('两个字符串相等')\n",
    "    else:\n",
    "        print('两个字符串不相等')\n",
    "        \n",
    "result = strEqual('qs','ds')\n",
    "print(result)\n",
    "\n"
   ]
  }
 ],
 "metadata": {
  "kernelspec": {
   "display_name": "Python 3",
   "language": "python",
   "name": "python3"
  },
  "language_info": {
   "codemirror_mode": {
    "name": "ipython",
    "version": 3
   },
   "file_extension": ".py",
   "mimetype": "text/x-python",
   "name": "python",
   "nbconvert_exporter": "python",
   "pygments_lexer": "ipython3",
   "version": "3.7.1"
  }
 },
 "nbformat": 4,
 "nbformat_minor": 2
}
